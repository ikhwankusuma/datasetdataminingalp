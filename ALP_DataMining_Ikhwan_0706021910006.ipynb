{
 "cells": [
  {
   "cell_type": "markdown",
   "metadata": {
    "id": "v5aXbQ3_W4sm"
   },
   "source": [
    "# Make Libraries and The Dataset Itself\n",
    "\n",
    "pertama - pertama lakukan adalah buka dataset dan semua libraries yang dirasa perlu.\n",
    "libraries digunakan adalah\n",
    "1.   `pandas` untuk pembuatan `DataFrame` dan manipulasi data\n",
    "2.   `math` untuk melakukan operasi penghitungan matematika\n",
    "\n"
   ]
  },
  {
   "cell_type": "code",
   "execution_count": 18,
   "metadata": {
    "colab": {
     "base_uri": "https://localhost:8080/"
    },
    "id": "WoRpsXb1W_sA",
    "outputId": "5fd34186-0f50-4a43-c278-70fb67ccb833"
   },
   "outputs": [
    {
     "name": "stdout",
     "output_type": "stream",
     "text": [
      "Requirement already satisfied: imblearn in c:\\users\\asus\\anaconda3\\lib\\site-packages (0.0)\n",
      "Requirement already satisfied: imbalanced-learn in c:\\users\\asus\\anaconda3\\lib\\site-packages (from imblearn) (0.10.1)\n",
      "Requirement already satisfied: scikit-learn>=1.0.2 in c:\\users\\asus\\anaconda3\\lib\\site-packages (from imbalanced-learn->imblearn) (1.1.3)\n",
      "Requirement already satisfied: joblib>=1.1.1 in c:\\users\\asus\\anaconda3\\lib\\site-packages (from imbalanced-learn->imblearn) (1.2.0)\n",
      "Requirement already satisfied: threadpoolctl>=2.0.0 in c:\\users\\asus\\anaconda3\\lib\\site-packages (from imbalanced-learn->imblearn) (2.1.0)\n",
      "Requirement already satisfied: numpy>=1.17.3 in c:\\users\\asus\\anaconda3\\lib\\site-packages (from imbalanced-learn->imblearn) (1.20.1)\n",
      "Requirement already satisfied: scipy>=1.3.2 in c:\\users\\asus\\anaconda3\\lib\\site-packages (from imbalanced-learn->imblearn) (1.6.2)\n"
     ]
    }
   ],
   "source": [
    "!pip install imblearn \n",
    "import pandas as pd\n",
    "import math\n",
    "import matplotlib.pyplot as plt\n",
    "import seaborn as sns\n",
    "from kneed import KneeLocator\n",
    "from sklearn.naive_bayes import GaussianNB\n",
    "from sklearn.preprocessing import PolynomialFeatures, StandardScaler\n",
    "from sklearn.linear_model import LinearRegression\n",
    "from sklearn.cluster import KMeans\n",
    "from sklearn.metrics import silhouette_samples, silhouette_score\n",
    "from sklearn.model_selection import train_test_split\n",
    "from imblearn.over_sampling import SMOTE"
   ]
  },
  {
   "cell_type": "code",
   "execution_count": 19,
   "metadata": {
    "colab": {
     "base_uri": "https://localhost:8080/",
     "height": 206
    },
    "id": "IWjh4_OfXGuh",
    "outputId": "6637b291-6643-4482-d3c8-a0206585be33"
   },
   "outputs": [
    {
     "data": {
      "text/html": [
       "<div>\n",
       "<style scoped>\n",
       "    .dataframe tbody tr th:only-of-type {\n",
       "        vertical-align: middle;\n",
       "    }\n",
       "\n",
       "    .dataframe tbody tr th {\n",
       "        vertical-align: top;\n",
       "    }\n",
       "\n",
       "    .dataframe thead th {\n",
       "        text-align: right;\n",
       "    }\n",
       "</style>\n",
       "<table border=\"1\" class=\"dataframe\">\n",
       "  <thead>\n",
       "    <tr style=\"text-align: right;\">\n",
       "      <th></th>\n",
       "      <th>gender</th>\n",
       "      <th>age</th>\n",
       "      <th>Time</th>\n",
       "      <th>Number_of_Warts</th>\n",
       "      <th>Type</th>\n",
       "      <th>Area</th>\n",
       "      <th>induration_diameter</th>\n",
       "      <th>Result_of_Treatment</th>\n",
       "    </tr>\n",
       "  </thead>\n",
       "  <tbody>\n",
       "    <tr>\n",
       "      <th>0</th>\n",
       "      <td>1</td>\n",
       "      <td>15</td>\n",
       "      <td>11.00</td>\n",
       "      <td>6.0</td>\n",
       "      <td>1.0</td>\n",
       "      <td>30</td>\n",
       "      <td>25.0</td>\n",
       "      <td>0</td>\n",
       "    </tr>\n",
       "    <tr>\n",
       "      <th>1</th>\n",
       "      <td>1</td>\n",
       "      <td>27</td>\n",
       "      <td>11.75</td>\n",
       "      <td>NaN</td>\n",
       "      <td>1.0</td>\n",
       "      <td>208</td>\n",
       "      <td>6.0</td>\n",
       "      <td>0</td>\n",
       "    </tr>\n",
       "    <tr>\n",
       "      <th>2</th>\n",
       "      <td>1</td>\n",
       "      <td>32</td>\n",
       "      <td>12.00</td>\n",
       "      <td>9.0</td>\n",
       "      <td>1.0</td>\n",
       "      <td>43</td>\n",
       "      <td>50.0</td>\n",
       "      <td>0</td>\n",
       "    </tr>\n",
       "    <tr>\n",
       "      <th>3</th>\n",
       "      <td>1</td>\n",
       "      <td>33</td>\n",
       "      <td>1.75</td>\n",
       "      <td>7.0</td>\n",
       "      <td>2.0</td>\n",
       "      <td>379</td>\n",
       "      <td>7.0</td>\n",
       "      <td>0</td>\n",
       "    </tr>\n",
       "    <tr>\n",
       "      <th>4</th>\n",
       "      <td>1</td>\n",
       "      <td>34</td>\n",
       "      <td>5.00</td>\n",
       "      <td>7.0</td>\n",
       "      <td>3.0</td>\n",
       "      <td>64</td>\n",
       "      <td>7.0</td>\n",
       "      <td>0</td>\n",
       "    </tr>\n",
       "  </tbody>\n",
       "</table>\n",
       "</div>"
      ],
      "text/plain": [
       "   gender  age   Time  Number_of_Warts  Type  Area  induration_diameter  \\\n",
       "0       1   15  11.00              6.0   1.0    30                 25.0   \n",
       "1       1   27  11.75              NaN   1.0   208                  6.0   \n",
       "2       1   32  12.00              9.0   1.0    43                 50.0   \n",
       "3       1   33   1.75              7.0   2.0   379                  7.0   \n",
       "4       1   34   5.00              7.0   3.0    64                  7.0   \n",
       "\n",
       "   Result_of_Treatment  \n",
       "0                    0  \n",
       "1                    0  \n",
       "2                    0  \n",
       "3                    0  \n",
       "4                    0  "
      ]
     },
     "execution_count": 19,
     "metadata": {},
     "output_type": "execute_result"
    }
   ],
   "source": [
    "url = \"https://raw.githubusercontent.com/ikhwankusuma/datasetdataminingalp/main/DatasetALP.csv\"\n",
    "\n",
    "df = pd.read_csv(url)\n",
    "df.head()"
   ]
  },
  {
   "cell_type": "markdown",
   "metadata": {
    "id": "hznqAW3PX_pf"
   },
   "source": [
    "# Ubah Nama Columns\n",
    "\n",
    "ubah nama setiap kolom agar memudahkan kita:\n",
    "\n",
    "-  `gender` -> `gender`\n",
    "-   `age` -> `age`\n",
    "-   `Time` -> `time`\n",
    "-   `Number_of_Warts` -> `warts_count`\n",
    "-   `Type` -> `type`\n",
    "-   `Area` -> `area`\n",
    "-   `induration_diameter` -> `induration_diameter`\n",
    "-   `Result_of_Treatment` -> `treatment_result`\n",
    "\n"
   ]
  },
  {
   "cell_type": "code",
   "execution_count": 20,
   "metadata": {
    "colab": {
     "base_uri": "https://localhost:8080/",
     "height": 206
    },
    "id": "QlJD3bAfYsaW",
    "outputId": "c318b399-5aaf-4e7f-9146-d84c7ee86f4b"
   },
   "outputs": [
    {
     "data": {
      "text/html": [
       "<div>\n",
       "<style scoped>\n",
       "    .dataframe tbody tr th:only-of-type {\n",
       "        vertical-align: middle;\n",
       "    }\n",
       "\n",
       "    .dataframe tbody tr th {\n",
       "        vertical-align: top;\n",
       "    }\n",
       "\n",
       "    .dataframe thead th {\n",
       "        text-align: right;\n",
       "    }\n",
       "</style>\n",
       "<table border=\"1\" class=\"dataframe\">\n",
       "  <thead>\n",
       "    <tr style=\"text-align: right;\">\n",
       "      <th></th>\n",
       "      <th>gender</th>\n",
       "      <th>umur</th>\n",
       "      <th>waktu</th>\n",
       "      <th>warts</th>\n",
       "      <th>type</th>\n",
       "      <th>area</th>\n",
       "      <th>induration</th>\n",
       "      <th>result_treatment</th>\n",
       "    </tr>\n",
       "  </thead>\n",
       "  <tbody>\n",
       "    <tr>\n",
       "      <th>0</th>\n",
       "      <td>1</td>\n",
       "      <td>15</td>\n",
       "      <td>11.00</td>\n",
       "      <td>6.0</td>\n",
       "      <td>1.0</td>\n",
       "      <td>30</td>\n",
       "      <td>25.0</td>\n",
       "      <td>0</td>\n",
       "    </tr>\n",
       "    <tr>\n",
       "      <th>1</th>\n",
       "      <td>1</td>\n",
       "      <td>27</td>\n",
       "      <td>11.75</td>\n",
       "      <td>NaN</td>\n",
       "      <td>1.0</td>\n",
       "      <td>208</td>\n",
       "      <td>6.0</td>\n",
       "      <td>0</td>\n",
       "    </tr>\n",
       "    <tr>\n",
       "      <th>2</th>\n",
       "      <td>1</td>\n",
       "      <td>32</td>\n",
       "      <td>12.00</td>\n",
       "      <td>9.0</td>\n",
       "      <td>1.0</td>\n",
       "      <td>43</td>\n",
       "      <td>50.0</td>\n",
       "      <td>0</td>\n",
       "    </tr>\n",
       "    <tr>\n",
       "      <th>3</th>\n",
       "      <td>1</td>\n",
       "      <td>33</td>\n",
       "      <td>1.75</td>\n",
       "      <td>7.0</td>\n",
       "      <td>2.0</td>\n",
       "      <td>379</td>\n",
       "      <td>7.0</td>\n",
       "      <td>0</td>\n",
       "    </tr>\n",
       "    <tr>\n",
       "      <th>4</th>\n",
       "      <td>1</td>\n",
       "      <td>34</td>\n",
       "      <td>5.00</td>\n",
       "      <td>7.0</td>\n",
       "      <td>3.0</td>\n",
       "      <td>64</td>\n",
       "      <td>7.0</td>\n",
       "      <td>0</td>\n",
       "    </tr>\n",
       "  </tbody>\n",
       "</table>\n",
       "</div>"
      ],
      "text/plain": [
       "   gender  umur  waktu  warts  type  area  induration  result_treatment\n",
       "0       1    15  11.00    6.0   1.0    30        25.0                 0\n",
       "1       1    27  11.75    NaN   1.0   208         6.0                 0\n",
       "2       1    32  12.00    9.0   1.0    43        50.0                 0\n",
       "3       1    33   1.75    7.0   2.0   379         7.0                 0\n",
       "4       1    34   5.00    7.0   3.0    64         7.0                 0"
      ]
     },
     "execution_count": 20,
     "metadata": {},
     "output_type": "execute_result"
    }
   ],
   "source": [
    "df.rename(columns = { 'gender': 'gender', 'age': 'umur', 'Time': 'waktu', 'Number_of_Warts': 'warts', 'Type': 'type', 'Area': 'area', 'induration_diameter': 'induration', 'Result_of_Treatment': 'result_treatment' }, inplace = True)\n",
    "\n",
    "df.head()"
   ]
  },
  {
   "cell_type": "markdown",
   "metadata": {
    "id": "Ge7ipQ2VZbro"
   },
   "source": [
    "# Dealing with Missing Values\n",
    "\n",
    "dataset tidak boleh memiliki nilai yang hilang atau `null` pada setiap barisnya agar mempermudah proses Clustering.\n",
    "\n",
    "berikut cara untuk mendeteksi missing values:\n",
    "\n",
    "- Menghapus kolom yang memiliki nilai `null` atau kosong\n",
    "- Menghapus baris yang memiliki nilai `null` atau kosong\n",
    "- Mengisi nilai hilang dengan `mode` / modus jika tipe data merupakan *categorical*\n",
    "- Mengisi nilai hilang dengan `mean` / rata-rata jika tipe data merupakan *numerical*\n",
    "- Menggunakan *classification* / klasifikasi jika tipe data merupakan *categorical*\n",
    "- Menggunakan *regression* / regresi jika tipe data merupakan *numerical*\n",
    "\n"
   ]
  },
  {
   "cell_type": "markdown",
   "metadata": {
    "id": "IrlnR1_Bb1ak"
   },
   "source": [
    "# Pengecekan Missing Values\n",
    "Sebelum melakukan Pengecekan *missing values*, hal yang harus yaitu adalah menghapus baris yang duplikat dari dataset lalu kemudian cari tahu apa betul masih ada nilai yang hilang dari dataset tersebut."
   ]
  },
  {
   "cell_type": "code",
   "execution_count": 21,
   "metadata": {
    "colab": {
     "base_uri": "https://localhost:8080/",
     "height": 49
    },
    "id": "whMGn4t5cwWf",
    "outputId": "12763ea2-7014-405d-b9b8-344aaffcd665"
   },
   "outputs": [
    {
     "data": {
      "text/html": [
       "<div>\n",
       "<style scoped>\n",
       "    .dataframe tbody tr th:only-of-type {\n",
       "        vertical-align: middle;\n",
       "    }\n",
       "\n",
       "    .dataframe tbody tr th {\n",
       "        vertical-align: top;\n",
       "    }\n",
       "\n",
       "    .dataframe thead th {\n",
       "        text-align: right;\n",
       "    }\n",
       "</style>\n",
       "<table border=\"1\" class=\"dataframe\">\n",
       "  <thead>\n",
       "    <tr style=\"text-align: right;\">\n",
       "      <th></th>\n",
       "      <th>gender</th>\n",
       "      <th>umur</th>\n",
       "      <th>waktu</th>\n",
       "      <th>warts</th>\n",
       "      <th>type</th>\n",
       "      <th>area</th>\n",
       "      <th>induration</th>\n",
       "      <th>result_treatment</th>\n",
       "    </tr>\n",
       "  </thead>\n",
       "  <tbody>\n",
       "  </tbody>\n",
       "</table>\n",
       "</div>"
      ],
      "text/plain": [
       "Empty DataFrame\n",
       "Columns: [gender, umur, waktu, warts, type, area, induration, result_treatment]\n",
       "Index: []"
      ]
     },
     "execution_count": 21,
     "metadata": {},
     "output_type": "execute_result"
    }
   ],
   "source": [
    "df[df.duplicated()]"
   ]
  },
  {
   "cell_type": "markdown",
   "metadata": {
    "id": "IEgX4cv2c0Nm"
   },
   "source": [
    "tidak didapati adanya baris yang duplikat."
   ]
  },
  {
   "cell_type": "code",
   "execution_count": 22,
   "metadata": {
    "colab": {
     "base_uri": "https://localhost:8080/"
    },
    "id": "kJEmOqBob0sw",
    "outputId": "0639193e-3289-4f20-92ae-b0691b836f8a"
   },
   "outputs": [
    {
     "name": "stdout",
     "output_type": "stream",
     "text": [
      "<class 'pandas.core.frame.DataFrame'>\n",
      "RangeIndex: 90 entries, 0 to 89\n",
      "Data columns (total 8 columns):\n",
      " #   Column            Non-Null Count  Dtype  \n",
      "---  ------            --------------  -----  \n",
      " 0   gender            90 non-null     float64\n",
      " 1   umur              90 non-null     float64\n",
      " 2   waktu             87 non-null     float64\n",
      " 3   warts             89 non-null     float64\n",
      " 4   type              85 non-null     float64\n",
      " 5   area              90 non-null     float64\n",
      " 6   induration        88 non-null     float64\n",
      " 7   result_treatment  90 non-null     float64\n",
      "dtypes: float64(8)\n",
      "memory usage: 5.8 KB\n"
     ]
    }
   ],
   "source": [
    "df = df.astype(float)\n",
    "df.info()"
   ]
  },
  {
   "cell_type": "code",
   "execution_count": 23,
   "metadata": {
    "colab": {
     "base_uri": "https://localhost:8080/"
    },
    "id": "xCmaGAzkcVDD",
    "outputId": "dbafdf28-4c2a-49bd-a497-d9f71c02fda4"
   },
   "outputs": [
    {
     "name": "stdout",
     "output_type": "stream",
     "text": [
      "gender              0\n",
      "umur                0\n",
      "waktu               3\n",
      "warts               1\n",
      "type                5\n",
      "area                0\n",
      "induration          2\n",
      "result_treatment    0\n",
      "dtype: int64\n"
     ]
    }
   ],
   "source": [
    "print(df.isnull().sum())"
   ]
  },
  {
   "cell_type": "markdown",
   "metadata": {
    "id": "uWlXxnITcT3S"
   },
   "source": [
    "hasil diatas dapat diketahui bahwa masih ada *missing values* pada kolom `waktu`, `warts`, `type` dan `induration`.\n",
    "\n",
    "Untuk memperbaiki *missing values* yang terdapat pada kolom tersebut adalah:\n",
    "\n",
    "\n",
    "*   `waktu`: Diisi dengan `mean` atau rata-rata dari dataset\n",
    "*   `induration`: Diisi dengan `mean` atau rata-rata dari dataset\n",
    "*   `warts`: Menggunakan *regression*\n",
    "*   `type`: Menggunakan *classification*\n",
    "\n"
   ]
  },
  {
   "cell_type": "markdown",
   "metadata": {
    "id": "TTLERHgr0tRO"
   },
   "source": [
    "# Filling `time` and `induration_diameter` With Mean\n",
    "\n",
    "Untuk mengisi `row` yang bernilai `null` atau kosong, dapat dilakukan dengan menggunakan method bernama `fillna()` dan menambahkan property `inplace = True` agar nilai pada dataset terubah."
   ]
  },
  {
   "cell_type": "code",
   "execution_count": 24,
   "metadata": {
    "colab": {
     "base_uri": "https://localhost:8080/"
    },
    "id": "Wp5GWSD5c8Fg",
    "outputId": "f19877ab-a796-4007-e38c-9fcf10507a59"
   },
   "outputs": [
    {
     "name": "stdout",
     "output_type": "stream",
     "text": [
      "<class 'pandas.core.frame.DataFrame'>\n",
      "RangeIndex: 90 entries, 0 to 89\n",
      "Data columns (total 8 columns):\n",
      " #   Column            Non-Null Count  Dtype  \n",
      "---  ------            --------------  -----  \n",
      " 0   gender            90 non-null     float64\n",
      " 1   umur              90 non-null     float64\n",
      " 2   waktu             90 non-null     float64\n",
      " 3   warts             89 non-null     float64\n",
      " 4   type              85 non-null     float64\n",
      " 5   area              90 non-null     float64\n",
      " 6   induration        90 non-null     float64\n",
      " 7   result_treatment  90 non-null     float64\n",
      "dtypes: float64(8)\n",
      "memory usage: 5.8 KB\n"
     ]
    }
   ],
   "source": [
    "df[\"waktu\"].fillna(math.floor(df[\"waktu\"].mean()), inplace = True)\n",
    "df[\"induration\"].fillna(math.floor(df[\"induration\"].mean()), inplace = True)\n",
    "\n",
    "df.info()"
   ]
  },
  {
   "cell_type": "markdown",
   "metadata": {
    "id": "t17s3vM-2iO4"
   },
   "source": [
    "# Menggunakan Regression Untuk Mengisi `warts` Missing Values\n",
    "\n",
    "Untuk mengisi missing values menggunakan metode Linearregression karena ini merupakan metode paling bagus dibanding menggunakan metode lainnya, dapat digunakan library `LinearRegression` dari `sklearn` untuk melakukan regresinya."
   ]
  },
  {
   "cell_type": "code",
   "execution_count": 25,
   "metadata": {
    "colab": {
     "base_uri": "https://localhost:8080/"
    },
    "id": "odaH2cYO2xze",
    "outputId": "bee5ba0b-b50b-4fcf-a3f7-02ce2ae28e20"
   },
   "outputs": [
    {
     "name": "stdout",
     "output_type": "stream",
     "text": [
      "<class 'pandas.core.frame.DataFrame'>\n",
      "Int64Index: 90 entries, 1 to 89\n",
      "Data columns (total 8 columns):\n",
      " #   Column            Non-Null Count  Dtype  \n",
      "---  ------            --------------  -----  \n",
      " 0   gender            90 non-null     float64\n",
      " 1   umur              90 non-null     float64\n",
      " 2   waktu             90 non-null     float64\n",
      " 3   area              90 non-null     float64\n",
      " 4   induration        90 non-null     float64\n",
      " 5   result_treatment  90 non-null     float64\n",
      " 6   warts             90 non-null     float64\n",
      " 7   type              85 non-null     float64\n",
      "dtypes: float64(8)\n",
      "memory usage: 6.3 KB\n"
     ]
    },
    {
     "name": "stderr",
     "output_type": "stream",
     "text": [
      "C:\\Users\\ASUS\\anaconda3\\lib\\site-packages\\pandas\\core\\frame.py:4308: SettingWithCopyWarning: \n",
      "A value is trying to be set on a copy of a slice from a DataFrame\n",
      "\n",
      "See the caveats in the documentation: https://pandas.pydata.org/pandas-docs/stable/user_guide/indexing.html#returning-a-view-versus-a-copy\n",
      "  return super().drop(\n",
      "<ipython-input-25-a824983b716b>:15: SettingWithCopyWarning: \n",
      "A value is trying to be set on a copy of a slice from a DataFrame.\n",
      "Try using .loc[row_indexer,col_indexer] = value instead\n",
      "\n",
      "See the caveats in the documentation: https://pandas.pydata.org/pandas-docs/stable/user_guide/indexing.html#returning-a-view-versus-a-copy\n",
      "  testdf['warts'] = pred\n",
      "<ipython-input-25-a824983b716b>:16: SettingWithCopyWarning: \n",
      "A value is trying to be set on a copy of a slice from a DataFrame.\n",
      "Try using .loc[row_indexer,col_indexer] = value instead\n",
      "\n",
      "See the caveats in the documentation: https://pandas.pydata.org/pandas-docs/stable/user_guide/indexing.html#returning-a-view-versus-a-copy\n",
      "  traindf['warts'] = y\n"
     ]
    }
   ],
   "source": [
    "\n",
    "\n",
    "testdf = df[df['warts'].isnull() == True]\n",
    "traindf = df[df['warts'].isnull() == False]\n",
    "\n",
    "y = traindf['warts']\n",
    "traindf.drop(\"warts\", axis = 1, inplace = True)\n",
    "traindf.drop(\"type\", axis = 1, inplace = True)\n",
    "testdf.drop(\"warts\", axis = 1, inplace = True)\n",
    "testdf.drop(\"type\", axis = 1, inplace = True)\n",
    "\n",
    "lr = LinearRegression()\n",
    "lr.fit(traindf,y)\n",
    "\n",
    "pred = lr.predict(testdf)\n",
    "\n",
    "testdf['warts'] = pred\n",
    "traindf['warts'] = y\n",
    "\n",
    "df2 = testdf.append(traindf)\n",
    "df2[\"type\"] = df[\"type\"]\n",
    "df2.info()"
   ]
  },
  {
   "cell_type": "markdown",
   "metadata": {
    "id": "guLfxhfF-neb"
   },
   "source": [
    "# Menggunakan Classification Untuk Mengisi `type` Missing Values\n",
    "\n",
    "Untuk melakukan klasifikasi, metode yang digunakan adalah metode `naive bayes` yang dapat dipakai melalui library `GaussianNB` dari `sklearn`."
   ]
  },
  {
   "cell_type": "code",
   "execution_count": 26,
   "metadata": {
    "colab": {
     "base_uri": "https://localhost:8080/"
    },
    "id": "xlEimbty-lD_",
    "outputId": "3c1127c7-8533-4a81-a0a5-eff489f689d8"
   },
   "outputs": [
    {
     "name": "stdout",
     "output_type": "stream",
     "text": [
      "<class 'pandas.core.frame.DataFrame'>\n",
      "Int64Index: 90 entries, 10 to 88\n",
      "Data columns (total 8 columns):\n",
      " #   Column            Non-Null Count  Dtype  \n",
      "---  ------            --------------  -----  \n",
      " 0   gender            90 non-null     float64\n",
      " 1   umur              90 non-null     float64\n",
      " 2   waktu             90 non-null     float64\n",
      " 3   area              90 non-null     float64\n",
      " 4   induration        90 non-null     float64\n",
      " 5   result_treatment  90 non-null     float64\n",
      " 6   warts             90 non-null     float64\n",
      " 7   type              90 non-null     float64\n",
      "dtypes: float64(8)\n",
      "memory usage: 6.3 KB\n"
     ]
    },
    {
     "name": "stderr",
     "output_type": "stream",
     "text": [
      "C:\\Users\\ASUS\\anaconda3\\lib\\site-packages\\pandas\\core\\frame.py:4308: SettingWithCopyWarning: \n",
      "A value is trying to be set on a copy of a slice from a DataFrame\n",
      "\n",
      "See the caveats in the documentation: https://pandas.pydata.org/pandas-docs/stable/user_guide/indexing.html#returning-a-view-versus-a-copy\n",
      "  return super().drop(\n",
      "<ipython-input-26-c0884abd369b>:13: SettingWithCopyWarning: \n",
      "A value is trying to be set on a copy of a slice from a DataFrame.\n",
      "Try using .loc[row_indexer,col_indexer] = value instead\n",
      "\n",
      "See the caveats in the documentation: https://pandas.pydata.org/pandas-docs/stable/user_guide/indexing.html#returning-a-view-versus-a-copy\n",
      "  testdf['type'] = pred\n",
      "<ipython-input-26-c0884abd369b>:14: SettingWithCopyWarning: \n",
      "A value is trying to be set on a copy of a slice from a DataFrame.\n",
      "Try using .loc[row_indexer,col_indexer] = value instead\n",
      "\n",
      "See the caveats in the documentation: https://pandas.pydata.org/pandas-docs/stable/user_guide/indexing.html#returning-a-view-versus-a-copy\n",
      "  traindf['type'] = y\n"
     ]
    }
   ],
   "source": [
    "nb = GaussianNB()\n",
    "\n",
    "testdf = df2[df2['type'].isnull() == True]\n",
    "traindf = df2[df2['type'].isnull() == False]\n",
    "\n",
    "y = traindf['type']\n",
    "traindf.drop(\"type\", axis = 1, inplace = True)\n",
    "testdf.drop(\"type\", axis = 1, inplace = True)\n",
    "\n",
    "nb.fit(traindf, y)\n",
    "pred = nb.predict(testdf)\n",
    "\n",
    "testdf['type'] = pred\n",
    "traindf['type'] = y\n",
    "\n",
    "df3 = testdf.append(traindf)\n",
    "df3.info()\n",
    "\n",
    "df = df3"
   ]
  },
  {
   "cell_type": "markdown",
   "metadata": {
    "id": "REScorth52d3"
   },
   "source": [
    "# Dealing With Imbalanced Datas\n",
    "\n",
    "Sebelum melakukan normalisasi, harus melakukan check apakah ada data yang tidak imbang. Hal tersebut bisa dilakukan dengan cara melihat jumlah dari setiap value yang ada pada target atributnya, yang dimaksud adalah `treatment_result`."
   ]
  },
  {
   "cell_type": "code",
   "execution_count": 27,
   "metadata": {
    "colab": {
     "base_uri": "https://localhost:8080/"
    },
    "id": "6F6bbieK4Jy3",
    "outputId": "f0f426f9-ad8c-4024-8450-5086d7511a9c"
   },
   "outputs": [
    {
     "data": {
      "text/plain": [
       "1.0    71\n",
       "0.0    19\n",
       "Name: result_treatment, dtype: int64"
      ]
     },
     "execution_count": 27,
     "metadata": {},
     "output_type": "execute_result"
    }
   ],
   "source": [
    "df['result_treatment'].value_counts()"
   ]
  },
  {
   "cell_type": "markdown",
   "metadata": {
    "id": "KI4GEBPf6oqC"
   },
   "source": [
    "hasil diatas menghasilkan bahwa data yang bernilai 1 dan 0 memiliki selisih yang cukup jauh, jika tidak diseimbangkan maka dapat terjadi data yang bias, dan hal tersebut akan berpengaruh buruk untuk analisis data.\n",
    "\n",
    "Untuk mengatasi data yang tidak seimbang, dapat digunakan metode *Synthetic Minority Oversampling Technique* (SMOTE) untuk menyeimbangkan dataset tersebut."
   ]
  },
  {
   "cell_type": "code",
   "execution_count": 28,
   "metadata": {
    "colab": {
     "base_uri": "https://localhost:8080/"
    },
    "id": "BjJGAahq4RG1",
    "outputId": "1807e161-33fb-4fd6-cf7f-1179b0c3e2fb"
   },
   "outputs": [
    {
     "data": {
      "text/plain": [
       "0.0    47\n",
       "1.0    47\n",
       "Name: result_treatment, dtype: int64"
      ]
     },
     "execution_count": 28,
     "metadata": {},
     "output_type": "execute_result"
    }
   ],
   "source": [
    "y = df['result_treatment']\n",
    "x = df\n",
    "x.drop(columns = ['result_treatment'], inplace = True)\n",
    "xTrain, xTest, yTrain, yTest = train_test_split(x, y, test_size = 0.33, random_state = 2, shuffle = True, stratify = y)\n",
    "\n",
    "sm = SMOTE(random_state = 42)\n",
    "xRus, yRus = sm.fit_resample(xTrain, yTrain)\n",
    "\n",
    "xRus['result_treatment'] = yRus\n",
    "\n",
    "df = xRus\n",
    "df['result_treatment'].value_counts()"
   ]
  },
  {
   "cell_type": "markdown",
   "metadata": {
    "id": "9jiG9ePZShR3"
   },
   "source": [
    "# Normalization\n",
    "\n",
    "Setelah mengisi setiap missing values selanjutnya sebelum melakukan clustering adalah melakukan normalisasi supaya tidak terjadi pembiasan data yang signifikan."
   ]
  },
  {
   "cell_type": "code",
   "execution_count": 29,
   "metadata": {
    "colab": {
     "base_uri": "https://localhost:8080/",
     "height": 300
    },
    "id": "reVC0Wp9AVOy",
    "outputId": "1c758d2a-d073-49ca-8c7e-2c6cae268371"
   },
   "outputs": [
    {
     "data": {
      "text/html": [
       "<div>\n",
       "<style scoped>\n",
       "    .dataframe tbody tr th:only-of-type {\n",
       "        vertical-align: middle;\n",
       "    }\n",
       "\n",
       "    .dataframe tbody tr th {\n",
       "        vertical-align: top;\n",
       "    }\n",
       "\n",
       "    .dataframe thead th {\n",
       "        text-align: right;\n",
       "    }\n",
       "</style>\n",
       "<table border=\"1\" class=\"dataframe\">\n",
       "  <thead>\n",
       "    <tr style=\"text-align: right;\">\n",
       "      <th></th>\n",
       "      <th>gender</th>\n",
       "      <th>umur</th>\n",
       "      <th>waktu</th>\n",
       "      <th>area</th>\n",
       "      <th>induration</th>\n",
       "      <th>warts</th>\n",
       "      <th>type</th>\n",
       "      <th>result_treatment</th>\n",
       "    </tr>\n",
       "  </thead>\n",
       "  <tbody>\n",
       "    <tr>\n",
       "      <th>count</th>\n",
       "      <td>94.000000</td>\n",
       "      <td>94.000000</td>\n",
       "      <td>94.000000</td>\n",
       "      <td>94.000000</td>\n",
       "      <td>94.000000</td>\n",
       "      <td>94.000000</td>\n",
       "      <td>94.000000</td>\n",
       "      <td>94.000000</td>\n",
       "    </tr>\n",
       "    <tr>\n",
       "      <th>mean</th>\n",
       "      <td>1.526538</td>\n",
       "      <td>31.005180</td>\n",
       "      <td>7.790815</td>\n",
       "      <td>81.514993</td>\n",
       "      <td>13.698305</td>\n",
       "      <td>5.911137</td>\n",
       "      <td>1.666183</td>\n",
       "      <td>0.500000</td>\n",
       "    </tr>\n",
       "    <tr>\n",
       "      <th>std</th>\n",
       "      <td>0.457348</td>\n",
       "      <td>10.990681</td>\n",
       "      <td>3.082447</td>\n",
       "      <td>102.147910</td>\n",
       "      <td>14.867442</td>\n",
       "      <td>3.478350</td>\n",
       "      <td>0.763962</td>\n",
       "      <td>0.502681</td>\n",
       "    </tr>\n",
       "    <tr>\n",
       "      <th>min</th>\n",
       "      <td>1.000000</td>\n",
       "      <td>15.000000</td>\n",
       "      <td>1.000000</td>\n",
       "      <td>6.000000</td>\n",
       "      <td>2.000000</td>\n",
       "      <td>1.000000</td>\n",
       "      <td>1.000000</td>\n",
       "      <td>0.000000</td>\n",
       "    </tr>\n",
       "    <tr>\n",
       "      <th>25%</th>\n",
       "      <td>1.000000</td>\n",
       "      <td>21.722543</td>\n",
       "      <td>5.562500</td>\n",
       "      <td>35.522578</td>\n",
       "      <td>5.672680</td>\n",
       "      <td>3.000000</td>\n",
       "      <td>1.000000</td>\n",
       "      <td>0.000000</td>\n",
       "    </tr>\n",
       "    <tr>\n",
       "      <th>50%</th>\n",
       "      <td>1.577226</td>\n",
       "      <td>29.156010</td>\n",
       "      <td>8.125000</td>\n",
       "      <td>48.045452</td>\n",
       "      <td>7.000000</td>\n",
       "      <td>6.000000</td>\n",
       "      <td>1.036671</td>\n",
       "      <td>0.500000</td>\n",
       "    </tr>\n",
       "    <tr>\n",
       "      <th>75%</th>\n",
       "      <td>2.000000</td>\n",
       "      <td>40.039528</td>\n",
       "      <td>10.573594</td>\n",
       "      <td>68.850492</td>\n",
       "      <td>15.371155</td>\n",
       "      <td>7.824683</td>\n",
       "      <td>2.011975</td>\n",
       "      <td>1.000000</td>\n",
       "    </tr>\n",
       "    <tr>\n",
       "      <th>max</th>\n",
       "      <td>2.000000</td>\n",
       "      <td>54.000000</td>\n",
       "      <td>12.000000</td>\n",
       "      <td>507.000000</td>\n",
       "      <td>70.000000</td>\n",
       "      <td>18.000000</td>\n",
       "      <td>3.000000</td>\n",
       "      <td>1.000000</td>\n",
       "    </tr>\n",
       "  </tbody>\n",
       "</table>\n",
       "</div>"
      ],
      "text/plain": [
       "          gender       umur      waktu        area  induration      warts  \\\n",
       "count  94.000000  94.000000  94.000000   94.000000   94.000000  94.000000   \n",
       "mean    1.526538  31.005180   7.790815   81.514993   13.698305   5.911137   \n",
       "std     0.457348  10.990681   3.082447  102.147910   14.867442   3.478350   \n",
       "min     1.000000  15.000000   1.000000    6.000000    2.000000   1.000000   \n",
       "25%     1.000000  21.722543   5.562500   35.522578    5.672680   3.000000   \n",
       "50%     1.577226  29.156010   8.125000   48.045452    7.000000   6.000000   \n",
       "75%     2.000000  40.039528  10.573594   68.850492   15.371155   7.824683   \n",
       "max     2.000000  54.000000  12.000000  507.000000   70.000000  18.000000   \n",
       "\n",
       "            type  result_treatment  \n",
       "count  94.000000         94.000000  \n",
       "mean    1.666183          0.500000  \n",
       "std     0.763962          0.502681  \n",
       "min     1.000000          0.000000  \n",
       "25%     1.000000          0.000000  \n",
       "50%     1.036671          0.500000  \n",
       "75%     2.011975          1.000000  \n",
       "max     3.000000          1.000000  "
      ]
     },
     "execution_count": 29,
     "metadata": {},
     "output_type": "execute_result"
    }
   ],
   "source": [
    "df.describe()"
   ]
  },
  {
   "cell_type": "markdown",
   "metadata": {
    "id": "yuXgApu9Ag3k"
   },
   "source": [
    "hasil  diatas menghasilkan bahwa terdapat bentang nilai yang sangat jauh dengan nilai terkecil -2.96 pada kolom `warts` dan nilai terbesar 507 di kolom `area` hal tersebut dapat berimbas pada pembiasan data yang berarti kolom `area` akan memiliki pengaruh yang jauh lebih kuat dikarenakan memiliki rentang nilai terjauh."
   ]
  },
  {
   "cell_type": "code",
   "execution_count": 30,
   "metadata": {
    "colab": {
     "base_uri": "https://localhost:8080/",
     "height": 387
    },
    "id": "vikcqXmBBT3S",
    "outputId": "441b5edd-1192-4918-e3fa-62e0ec4ef44b"
   },
   "outputs": [
    {
     "data": {
      "text/html": [
       "<div>\n",
       "<style scoped>\n",
       "    .dataframe tbody tr th:only-of-type {\n",
       "        vertical-align: middle;\n",
       "    }\n",
       "\n",
       "    .dataframe tbody tr th {\n",
       "        vertical-align: top;\n",
       "    }\n",
       "\n",
       "    .dataframe thead th {\n",
       "        text-align: right;\n",
       "    }\n",
       "</style>\n",
       "<table border=\"1\" class=\"dataframe\">\n",
       "  <thead>\n",
       "    <tr style=\"text-align: right;\">\n",
       "      <th></th>\n",
       "      <th>gender</th>\n",
       "      <th>umur</th>\n",
       "      <th>waktu</th>\n",
       "      <th>area</th>\n",
       "      <th>induration</th>\n",
       "      <th>warts</th>\n",
       "      <th>type</th>\n",
       "      <th>result_treatment</th>\n",
       "    </tr>\n",
       "  </thead>\n",
       "  <tbody>\n",
       "    <tr>\n",
       "      <th>count</th>\n",
       "      <td>94.000000</td>\n",
       "      <td>94.000000</td>\n",
       "      <td>94.000000</td>\n",
       "      <td>94.000000</td>\n",
       "      <td>94.000000</td>\n",
       "      <td>94.000000</td>\n",
       "      <td>94.000000</td>\n",
       "      <td>94.000000</td>\n",
       "    </tr>\n",
       "    <tr>\n",
       "      <th>mean</th>\n",
       "      <td>0.152654</td>\n",
       "      <td>0.310052</td>\n",
       "      <td>0.077908</td>\n",
       "      <td>0.081515</td>\n",
       "      <td>0.136983</td>\n",
       "      <td>0.059111</td>\n",
       "      <td>0.166618</td>\n",
       "      <td>0.050000</td>\n",
       "    </tr>\n",
       "    <tr>\n",
       "      <th>std</th>\n",
       "      <td>0.045735</td>\n",
       "      <td>0.109907</td>\n",
       "      <td>0.030824</td>\n",
       "      <td>0.102148</td>\n",
       "      <td>0.148674</td>\n",
       "      <td>0.034784</td>\n",
       "      <td>0.076396</td>\n",
       "      <td>0.050268</td>\n",
       "    </tr>\n",
       "    <tr>\n",
       "      <th>min</th>\n",
       "      <td>0.100000</td>\n",
       "      <td>0.150000</td>\n",
       "      <td>0.010000</td>\n",
       "      <td>0.006000</td>\n",
       "      <td>0.020000</td>\n",
       "      <td>0.010000</td>\n",
       "      <td>0.100000</td>\n",
       "      <td>0.000000</td>\n",
       "    </tr>\n",
       "    <tr>\n",
       "      <th>25%</th>\n",
       "      <td>0.100000</td>\n",
       "      <td>0.217225</td>\n",
       "      <td>0.055625</td>\n",
       "      <td>0.035523</td>\n",
       "      <td>0.056727</td>\n",
       "      <td>0.030000</td>\n",
       "      <td>0.100000</td>\n",
       "      <td>0.000000</td>\n",
       "    </tr>\n",
       "    <tr>\n",
       "      <th>50%</th>\n",
       "      <td>0.157723</td>\n",
       "      <td>0.291560</td>\n",
       "      <td>0.081250</td>\n",
       "      <td>0.048045</td>\n",
       "      <td>0.070000</td>\n",
       "      <td>0.060000</td>\n",
       "      <td>0.103667</td>\n",
       "      <td>0.050000</td>\n",
       "    </tr>\n",
       "    <tr>\n",
       "      <th>75%</th>\n",
       "      <td>0.200000</td>\n",
       "      <td>0.400395</td>\n",
       "      <td>0.105736</td>\n",
       "      <td>0.068850</td>\n",
       "      <td>0.153712</td>\n",
       "      <td>0.078247</td>\n",
       "      <td>0.201197</td>\n",
       "      <td>0.100000</td>\n",
       "    </tr>\n",
       "    <tr>\n",
       "      <th>max</th>\n",
       "      <td>0.200000</td>\n",
       "      <td>0.540000</td>\n",
       "      <td>0.120000</td>\n",
       "      <td>0.507000</td>\n",
       "      <td>0.700000</td>\n",
       "      <td>0.180000</td>\n",
       "      <td>0.300000</td>\n",
       "      <td>0.100000</td>\n",
       "    </tr>\n",
       "  </tbody>\n",
       "</table>\n",
       "</div>"
      ],
      "text/plain": [
       "          gender       umur      waktu       area  induration      warts  \\\n",
       "count  94.000000  94.000000  94.000000  94.000000   94.000000  94.000000   \n",
       "mean    0.152654   0.310052   0.077908   0.081515    0.136983   0.059111   \n",
       "std     0.045735   0.109907   0.030824   0.102148    0.148674   0.034784   \n",
       "min     0.100000   0.150000   0.010000   0.006000    0.020000   0.010000   \n",
       "25%     0.100000   0.217225   0.055625   0.035523    0.056727   0.030000   \n",
       "50%     0.157723   0.291560   0.081250   0.048045    0.070000   0.060000   \n",
       "75%     0.200000   0.400395   0.105736   0.068850    0.153712   0.078247   \n",
       "max     0.200000   0.540000   0.120000   0.507000    0.700000   0.180000   \n",
       "\n",
       "            type  result_treatment  \n",
       "count  94.000000         94.000000  \n",
       "mean    0.166618          0.050000  \n",
       "std     0.076396          0.050268  \n",
       "min     0.100000          0.000000  \n",
       "25%     0.100000          0.000000  \n",
       "50%     0.103667          0.050000  \n",
       "75%     0.201197          0.100000  \n",
       "max     0.300000          0.100000  "
      ]
     },
     "execution_count": 30,
     "metadata": {},
     "output_type": "execute_result"
    }
   ],
   "source": [
    "for (name, data) in df.iteritems():\n",
    "  max = df[name].max()\n",
    "  pow = len(str(abs(max))) -2\n",
    "  for (index, val) in df.iterrows():\n",
    "    \n",
    "    \n",
    "    df[name][index] = df[name][index] / 10 ** pow\n",
    "df.describe()"
   ]
  },
  {
   "cell_type": "markdown",
   "metadata": {
    "id": "DPbbCWjuHjlS"
   },
   "source": [
    "# Clustering\n",
    "\n",
    "step selanjutnya setelah normalisasi data yaitu melakukan pengelompokkan data menggunakan metode K-Means.\n",
    "\n",
    "step pertama melakukan mencari jumlah kelompok yang paling optimal menggunakan metode *elbow*."
   ]
  },
  {
   "cell_type": "code",
   "execution_count": 31,
   "metadata": {
    "id": "qy555HLQHlnJ"
   },
   "outputs": [
    {
     "name": "stderr",
     "output_type": "stream",
     "text": [
      "C:\\Users\\ASUS\\anaconda3\\lib\\site-packages\\sklearn\\cluster\\_kmeans.py:1334: UserWarning: KMeans is known to have a memory leak on Windows with MKL, when there are less chunks than available threads. You can avoid it by setting the environment variable OMP_NUM_THREADS=1.\n",
      "  warnings.warn(\n",
      "C:\\Users\\ASUS\\anaconda3\\lib\\site-packages\\sklearn\\cluster\\_kmeans.py:1334: UserWarning: KMeans is known to have a memory leak on Windows with MKL, when there are less chunks than available threads. You can avoid it by setting the environment variable OMP_NUM_THREADS=1.\n",
      "  warnings.warn(\n",
      "C:\\Users\\ASUS\\anaconda3\\lib\\site-packages\\sklearn\\cluster\\_kmeans.py:1334: UserWarning: KMeans is known to have a memory leak on Windows with MKL, when there are less chunks than available threads. You can avoid it by setting the environment variable OMP_NUM_THREADS=1.\n",
      "  warnings.warn(\n",
      "C:\\Users\\ASUS\\anaconda3\\lib\\site-packages\\sklearn\\cluster\\_kmeans.py:1334: UserWarning: KMeans is known to have a memory leak on Windows with MKL, when there are less chunks than available threads. You can avoid it by setting the environment variable OMP_NUM_THREADS=1.\n",
      "  warnings.warn(\n",
      "C:\\Users\\ASUS\\anaconda3\\lib\\site-packages\\sklearn\\cluster\\_kmeans.py:1334: UserWarning: KMeans is known to have a memory leak on Windows with MKL, when there are less chunks than available threads. You can avoid it by setting the environment variable OMP_NUM_THREADS=1.\n",
      "  warnings.warn(\n",
      "C:\\Users\\ASUS\\anaconda3\\lib\\site-packages\\sklearn\\cluster\\_kmeans.py:1334: UserWarning: KMeans is known to have a memory leak on Windows with MKL, when there are less chunks than available threads. You can avoid it by setting the environment variable OMP_NUM_THREADS=1.\n",
      "  warnings.warn(\n",
      "C:\\Users\\ASUS\\anaconda3\\lib\\site-packages\\sklearn\\cluster\\_kmeans.py:1334: UserWarning: KMeans is known to have a memory leak on Windows with MKL, when there are less chunks than available threads. You can avoid it by setting the environment variable OMP_NUM_THREADS=1.\n",
      "  warnings.warn(\n",
      "C:\\Users\\ASUS\\anaconda3\\lib\\site-packages\\sklearn\\cluster\\_kmeans.py:1334: UserWarning: KMeans is known to have a memory leak on Windows with MKL, when there are less chunks than available threads. You can avoid it by setting the environment variable OMP_NUM_THREADS=1.\n",
      "  warnings.warn(\n",
      "C:\\Users\\ASUS\\anaconda3\\lib\\site-packages\\sklearn\\cluster\\_kmeans.py:1334: UserWarning: KMeans is known to have a memory leak on Windows with MKL, when there are less chunks than available threads. You can avoid it by setting the environment variable OMP_NUM_THREADS=1.\n",
      "  warnings.warn(\n",
      "C:\\Users\\ASUS\\anaconda3\\lib\\site-packages\\sklearn\\cluster\\_kmeans.py:1334: UserWarning: KMeans is known to have a memory leak on Windows with MKL, when there are less chunks than available threads. You can avoid it by setting the environment variable OMP_NUM_THREADS=1.\n",
      "  warnings.warn(\n",
      "C:\\Users\\ASUS\\anaconda3\\lib\\site-packages\\sklearn\\cluster\\_kmeans.py:1334: UserWarning: KMeans is known to have a memory leak on Windows with MKL, when there are less chunks than available threads. You can avoid it by setting the environment variable OMP_NUM_THREADS=1.\n",
      "  warnings.warn(\n",
      "C:\\Users\\ASUS\\anaconda3\\lib\\site-packages\\sklearn\\cluster\\_kmeans.py:1334: UserWarning: KMeans is known to have a memory leak on Windows with MKL, when there are less chunks than available threads. You can avoid it by setting the environment variable OMP_NUM_THREADS=1.\n",
      "  warnings.warn(\n",
      "C:\\Users\\ASUS\\anaconda3\\lib\\site-packages\\sklearn\\cluster\\_kmeans.py:1334: UserWarning: KMeans is known to have a memory leak on Windows with MKL, when there are less chunks than available threads. You can avoid it by setting the environment variable OMP_NUM_THREADS=1.\n",
      "  warnings.warn(\n",
      "C:\\Users\\ASUS\\anaconda3\\lib\\site-packages\\sklearn\\cluster\\_kmeans.py:1334: UserWarning: KMeans is known to have a memory leak on Windows with MKL, when there are less chunks than available threads. You can avoid it by setting the environment variable OMP_NUM_THREADS=1.\n",
      "  warnings.warn(\n"
     ]
    }
   ],
   "source": [
    "result = []\n",
    "crange = range(1, 15)\n",
    "for k in crange:\n",
    "    km = KMeans(n_clusters=k)\n",
    "    km = km.fit(df)\n",
    "    result.append(km.inertia_)"
   ]
  },
  {
   "cell_type": "code",
   "execution_count": 32,
   "metadata": {
    "colab": {
     "base_uri": "https://localhost:8080/",
     "height": 279
    },
    "id": "mPdbz352K5vQ",
    "outputId": "49cfcba1-a9a5-4417-9713-416f7bd38156"
   },
   "outputs": [
    {
     "data": {
      "image/png": "[encoded data removed]",
      "text/plain": [
       "<Figure size 432x288 with 1 Axes>"
      ]
     },
     "metadata": {
      "needs_background": "light"
     },
     "output_type": "display_data"
    }
   ],
   "source": [
    "plt.plot(crange, result, 'bx-')\n",
    "plt.xlabel('Number of clusters')\n",
    "plt.ylabel('Sum of Squared Errors')\n",
    "plt.show()"
   ]
  },
  {
   "cell_type": "code",
   "execution_count": 33,
   "metadata": {
    "colab": {
     "base_uri": "https://localhost:8080/"
    },
    "id": "MSoMmzSSL5L8",
    "outputId": "ab63631f-d14b-466b-e8bc-ea5f89acd58c"
   },
   "outputs": [
    {
     "data": {
      "text/plain": [
       "5"
      ]
     },
     "execution_count": 33,
     "metadata": {},
     "output_type": "execute_result"
    }
   ],
   "source": [
    "kl = KneeLocator(crange, result, curve=\"convex\", direction=\"decreasing\")\n",
    "kl.elbow"
   ]
  },
  {
   "cell_type": "markdown",
   "metadata": {
    "id": "K5GPUWFoBNss"
   },
   "source": [
    "hasil diatas menghasilkan jumlah kelompok yang paling optimal adalah sebanyak 4 kelompok. lalu baru dilakukan proses pengelompokkan dengan metode K-Means dengan menggunakan library `KMeans` dari `sklearn`."
   ]
  },
  {
   "cell_type": "code",
   "execution_count": 34,
   "metadata": {
    "colab": {
     "base_uri": "https://localhost:8080/"
    },
    "id": "jeFF4rK6NO2p",
    "outputId": "7f3e3c88-1291-44af-efd7-26623745ed7c"
   },
   "outputs": [
    {
     "name": "stderr",
     "output_type": "stream",
     "text": [
      "C:\\Users\\ASUS\\anaconda3\\lib\\site-packages\\sklearn\\cluster\\_kmeans.py:1334: UserWarning: KMeans is known to have a memory leak on Windows with MKL, when there are less chunks than available threads. You can avoid it by setting the environment variable OMP_NUM_THREADS=1.\n",
      "  warnings.warn(\n",
      "C:\\Users\\ASUS\\anaconda3\\lib\\site-packages\\sklearn\\cluster\\_kmeans.py:1334: UserWarning: KMeans is known to have a memory leak on Windows with MKL, when there are less chunks than available threads. You can avoid it by setting the environment variable OMP_NUM_THREADS=1.\n",
      "  warnings.warn(\n"
     ]
    },
    {
     "data": {
      "text/plain": [
       "2    39\n",
       "1    26\n",
       "0    14\n",
       "3     8\n",
       "4     7\n",
       "Name: category, dtype: int64"
      ]
     },
     "execution_count": 34,
     "metadata": {},
     "output_type": "execute_result"
    }
   ],
   "source": [
    "kmeans = KMeans(n_clusters = kl.elbow, init = \"k-means++\").fit(df)\n",
    "\n",
    "labels = kmeans.fit_predict(df)\n",
    "df['category'] = labels\n",
    "df['category'].value_counts()"
   ]
  },
  {
   "cell_type": "markdown",
   "metadata": {
    "id": "L4bywetZBjF-"
   },
   "source": [
    "Hasil dari pengelompokkan dilakukan terdapat 4 kelompok yang dimana masing-masing kelompok memiliki jumlah data:\n",
    "\n",
    "- kelompok 0: 33 data\n",
    "- kelompok 1: 23 data\n",
    "- kelompok 2: 24 data\n",
    "- kelompok 3: 14 data"
   ]
  }
 ],
 "metadata": {
  "colab": {
   "provenance": []
  },
  "kernelspec": {
   "display_name": "Python 3",
   "language": "python",
   "name": "python3"
  },
  "language_info": {
   "codemirror_mode": {
    "name": "ipython",
    "version": 3
   },
   "file_extension": ".py",
   "mimetype": "text/x-python",
   "name": "python",
   "nbconvert_exporter": "python",
   "pygments_lexer": "ipython3",
   "version": "3.8.8"
  }
 },
 "nbformat": 4,
 "nbformat_minor": 1
}
